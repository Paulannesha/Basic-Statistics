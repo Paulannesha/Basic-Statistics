{
 "cells": [
  {
   "cell_type": "markdown",
   "id": "a313a245-5eb9-4c64-97fe-0a03f8fbddc1",
   "metadata": {},
   "source": [
    "# For given data\n",
    "\n",
    "A total of 15 print-heads were randomly selected and tested until failure. The durability of each print-head (in millions of characters) was recorded as follows:\n",
    "data = [1.13, 1.55, 1.43, 0.92, 1.25, 1.36, 1.32, 0.85, 1.07, 1.48, 1.20, 1.33, 1.18, 1.22, 1.29]\n"
   ]
  },
  {
   "cell_type": "markdown",
   "id": "2335ed8a-7e77-4cf3-b11c-5bae649bb2ec",
   "metadata": {},
   "source": [
    "# a. Build 99% Confidence Interval Using Sample Standard Deviation\n",
    "\n",
    "Assuming the sample is representative of the population, construct a 99% confidence interval for the mean number of characters printed before the\n",
    "print-head fails using the sample standard deviation. Explain the steps you take and the rationale behind using the t-distribution for this task.\n"
   ]
  },
  {
   "cell_type": "code",
   "execution_count": 4,
   "id": "f071f0c1-7df8-4425-9148-986a9c4fa634",
   "metadata": {},
   "outputs": [
    {
     "data": {
      "text/plain": [
       "(1.090197338451367, 1.3871359948819662)"
      ]
     },
     "execution_count": 4,
     "metadata": {},
     "output_type": "execute_result"
    }
   ],
   "source": [
    "import scipy.stats as stats\n",
    "import numpy as np\n",
    "\n",
    "data = [1.13, 1.55, 1.43, 0.92, 1.25, 1.36, 1.32, 0.85, 1.07, 1.48, 1.20, 1.33, 1.18, 1.22, 1.29]\n",
    "\n",
    "sample_mean = np.mean(data)\n",
    "sample_std = np.std(data, ddof=1)  \n",
    "n = len(data)\n",
    "df=n-1\n",
    "\n",
    "t_score = stats.t.ppf(0.995, df)\n",
    "\n",
    "margin_of_error = t_score * (sample_std / np.sqrt(n))\n",
    "\n",
    "# Calculate confidence interval\n",
    "confidence_interval = (sample_mean - margin_of_error, sample_mean + margin_of_error)\n",
    "\n",
    "confidence_interval"
   ]
  },
  {
   "cell_type": "code",
   "execution_count": 5,
   "id": "509c0bac-aa3f-47ce-a96d-53761c2cdb85",
   "metadata": {},
   "outputs": [
    {
     "data": {
      "text/plain": [
       "1.2386666666666666"
      ]
     },
     "execution_count": 5,
     "metadata": {},
     "output_type": "execute_result"
    }
   ],
   "source": [
    "np.mean(data)"
   ]
  },
  {
   "cell_type": "code",
   "execution_count": 6,
   "id": "3fab9708-db1c-4902-9398-14ed4ecd122f",
   "metadata": {},
   "outputs": [
    {
     "data": {
      "text/plain": [
       "0.18661427836285438"
      ]
     },
     "execution_count": 6,
     "metadata": {},
     "output_type": "execute_result"
    }
   ],
   "source": [
    "np.std(data)"
   ]
  },
  {
   "cell_type": "code",
   "execution_count": 7,
   "id": "f6d9c012-eda0-4a1b-9cd1-4a79c2762d99",
   "metadata": {},
   "outputs": [
    {
     "data": {
      "text/plain": [
       "1.25"
      ]
     },
     "execution_count": 7,
     "metadata": {},
     "output_type": "execute_result"
    }
   ],
   "source": [
    "np.median(data)"
   ]
  },
  {
   "cell_type": "raw",
   "id": "08dc59e8-22b1-4712-a596-a013f34a3b04",
   "metadata": {},
   "source": [
    "As because the population standard deviation is not provided, we have used t-distribution instead of normal distribution. We use the t-distribution because the population standard deviation is estimated from the sample standard deviation."
   ]
  },
  {
   "cell_type": "markdown",
   "id": "cf2f4343-2724-4111-aa26-2d407333c2af",
   "metadata": {},
   "source": [
    "# b. Build 99% Confidence Interval Using Known Population Standard Deviation\n",
    "\n",
    "If it were known that the population standard deviation is 0.2 million characters, \n",
    "construct a 99% confidence intervalfor the mean number of characters printed before failure\n"
   ]
  },
  {
   "cell_type": "code",
   "execution_count": 10,
   "id": "b1835e24-3b62-4e88-854b-3dc38b5963b3",
   "metadata": {},
   "outputs": [
    {
     "name": "stdout",
     "output_type": "stream",
     "text": [
      "({1.1056514133957607}, {1.3716819199375725})\n"
     ]
    }
   ],
   "source": [
    "import scipy.stats as stats\n",
    "\n",
    "data = [1.13, 1.55, 1.43, 0.92, 1.25, 1.36, 1.32, 0.85, 1.07, 1.48, 1.20, 1.33, 1.18, 1.22, 1.29]\n",
    "\n",
    "population_std_dev = 0.2 \n",
    "sample_mean = np.mean(data)\n",
    "sample_size =  15\n",
    "confidence_level = 0.99\n",
    "\n",
    "critical_value = stats.norm.ppf((1 + confidence_level) / 2)\n",
    "\n",
    "margin_of_error = critical_value * (population_std_dev / (sample_size ** 0.5))\n",
    "\n",
    "# Calculate the confidence interval\n",
    "lower_bound = sample_mean - margin_of_error\n",
    "upper_bound = sample_mean + margin_of_error\n",
    "\n",
    "print(({lower_bound}, {upper_bound}))"
   ]
  },
  {
   "cell_type": "code",
   "execution_count": null,
   "id": "3fd2cab9-c849-48dc-b433-71eac5ec3247",
   "metadata": {},
   "outputs": [],
   "source": []
  }
 ],
 "metadata": {
  "kernelspec": {
   "display_name": "Python 3 (ipykernel)",
   "language": "python",
   "name": "python3"
  },
  "language_info": {
   "codemirror_mode": {
    "name": "ipython",
    "version": 3
   },
   "file_extension": ".py",
   "mimetype": "text/x-python",
   "name": "python",
   "nbconvert_exporter": "python",
   "pygments_lexer": "ipython3",
   "version": "3.11.7"
  }
 },
 "nbformat": 4,
 "nbformat_minor": 5
}
